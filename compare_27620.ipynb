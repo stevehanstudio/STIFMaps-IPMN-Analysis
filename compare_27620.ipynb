{
 "cells": [
  {
   "cell_type": "code",
   "execution_count": 1,
   "metadata": {},
   "outputs": [
    {
     "name": "stdout",
     "output_type": "stream",
     "text": [
      "Matplotlib imported successfully\n"
     ]
    },
    {
     "data": {
      "text/html": [
       "<div>\n",
       "<style scoped>\n",
       "    .dataframe tbody tr th:only-of-type {\n",
       "        vertical-align: middle;\n",
       "    }\n",
       "\n",
       "    .dataframe tbody tr th {\n",
       "        vertical-align: top;\n",
       "    }\n",
       "\n",
       "    .dataframe thead th {\n",
       "        text-align: right;\n",
       "    }\n",
       "</style>\n",
       "<table border=\"1\" class=\"dataframe\">\n",
       "  <thead>\n",
       "    <tr style=\"text-align: right;\">\n",
       "      <th></th>\n",
       "      <th>Object ID</th>\n",
       "      <th>Object type</th>\n",
       "      <th>Classification</th>\n",
       "      <th>Mean Intensity</th>\n",
       "      <th>Unnamed: 4</th>\n",
       "      <th>Mean Intensity Normalized</th>\n",
       "      <th>Stiffness (log (E actual) PA)</th>\n",
       "    </tr>\n",
       "  </thead>\n",
       "  <tbody>\n",
       "    <tr>\n",
       "      <th>0</th>\n",
       "      <td>f4dd3722-9b0b-45be-82b1-b5701390fb23</td>\n",
       "      <td>Annotation</td>\n",
       "      <td>LGD</td>\n",
       "      <td>117.4291</td>\n",
       "      <td>NaN</td>\n",
       "      <td>0.460506</td>\n",
       "      <td>5.752603</td>\n",
       "    </tr>\n",
       "    <tr>\n",
       "      <th>1</th>\n",
       "      <td>25ed0478-a9f2-43cf-9c2f-ce5d7d535ab5</td>\n",
       "      <td>Annotation</td>\n",
       "      <td>LGD</td>\n",
       "      <td>100.5337</td>\n",
       "      <td>NaN</td>\n",
       "      <td>0.394250</td>\n",
       "      <td>5.411505</td>\n",
       "    </tr>\n",
       "    <tr>\n",
       "      <th>2</th>\n",
       "      <td>57151830-f97e-40c8-816c-6fb8f179df44</td>\n",
       "      <td>Annotation</td>\n",
       "      <td>LGD</td>\n",
       "      <td>86.3118</td>\n",
       "      <td>NaN</td>\n",
       "      <td>0.338478</td>\n",
       "      <td>5.124381</td>\n",
       "    </tr>\n",
       "    <tr>\n",
       "      <th>3</th>\n",
       "      <td>a4e29dc8-2683-40ed-8cdc-bc6d3a21c992</td>\n",
       "      <td>Annotation</td>\n",
       "      <td>LGD</td>\n",
       "      <td>119.8190</td>\n",
       "      <td>NaN</td>\n",
       "      <td>0.469878</td>\n",
       "      <td>5.800853</td>\n",
       "    </tr>\n",
       "    <tr>\n",
       "      <th>4</th>\n",
       "      <td>778a383f-2284-4ea9-9d2d-f7e9a4b88e4d</td>\n",
       "      <td>Annotation</td>\n",
       "      <td>LGD</td>\n",
       "      <td>112.1996</td>\n",
       "      <td>NaN</td>\n",
       "      <td>0.439998</td>\n",
       "      <td>5.647026</td>\n",
       "    </tr>\n",
       "  </tbody>\n",
       "</table>\n",
       "</div>"
      ],
      "text/plain": [
       "                              Object ID Object type Classification  \\\n",
       "0  f4dd3722-9b0b-45be-82b1-b5701390fb23  Annotation            LGD   \n",
       "1  25ed0478-a9f2-43cf-9c2f-ce5d7d535ab5  Annotation            LGD   \n",
       "2  57151830-f97e-40c8-816c-6fb8f179df44  Annotation            LGD   \n",
       "3  a4e29dc8-2683-40ed-8cdc-bc6d3a21c992  Annotation            LGD   \n",
       "4  778a383f-2284-4ea9-9d2d-f7e9a4b88e4d  Annotation            LGD   \n",
       "\n",
       "   Mean Intensity Unnamed: 4  Mean Intensity Normalized  \\\n",
       "0        117.4291        NaN                   0.460506   \n",
       "1        100.5337        NaN                   0.394250   \n",
       "2         86.3118        NaN                   0.338478   \n",
       "3        119.8190        NaN                   0.469878   \n",
       "4        112.1996        NaN                   0.439998   \n",
       "\n",
       "   Stiffness (log (E actual) PA)  \n",
       "0                       5.752603  \n",
       "1                       5.411505  \n",
       "2                       5.124381  \n",
       "3                       5.800853  \n",
       "4                       5.647026  "
      ]
     },
     "execution_count": 1,
     "metadata": {},
     "output_type": "execute_result"
    }
   ],
   "source": [
    "from globals_and_helpers import (\n",
    "    PROJECT_DIR,\n",
    "    TEMP_OUTPUTS_DIR,\n",
    "    FINAL_OUTPUTS_DIR,\n",
    " )\n",
    "import os\n",
    "import pandas as pd\n",
    "import numpy as np\n",
    "import scipy as sp\n",
    "from scipy import stats\n",
    "from plotly.offline import iplot\n",
    "import plotly.graph_objects as go\n",
    "import plotly.express as px\n",
    "import plotly.io as pio\n",
    "import statsmodels.api as sm\n",
    "import matplotlib.pyplot as plt\n",
    "print(\"Matplotlib imported successfully\")\n",
    "pio.templates.default = 'none'\n",
    "\n",
    "datapath = os.path.join(PROJECT_DIR, 'final_outputs', '0.25 scaling v. tiled')\n",
    "\n",
    "# Load the CSV files into dataframes\n",
    "df1_unfiltered = pd.read_csv(os.path.join(datapath, '27620_0.25scale.csv'))\n",
    "df2_unfiltered = pd.read_csv(os.path.join(datapath, '27620_tiled.csv'))\n",
    "df2_unfiltered.head()"
   ]
  },
  {
   "cell_type": "code",
   "execution_count": 2,
   "metadata": {},
   "outputs": [
    {
     "data": {
      "text/html": [
       "<div>\n",
       "<style scoped>\n",
       "    .dataframe tbody tr th:only-of-type {\n",
       "        vertical-align: middle;\n",
       "    }\n",
       "\n",
       "    .dataframe tbody tr th {\n",
       "        vertical-align: top;\n",
       "    }\n",
       "\n",
       "    .dataframe thead th {\n",
       "        text-align: right;\n",
       "    }\n",
       "</style>\n",
       "<table border=\"1\" class=\"dataframe\">\n",
       "  <thead>\n",
       "    <tr style=\"text-align: right;\">\n",
       "      <th></th>\n",
       "      <th>Object ID</th>\n",
       "      <th>Object type</th>\n",
       "      <th>Classification</th>\n",
       "      <th>Stiffness (log (E actual) PA)</th>\n",
       "    </tr>\n",
       "  </thead>\n",
       "  <tbody>\n",
       "    <tr>\n",
       "      <th>0</th>\n",
       "      <td>7a0bd252-1529-4c0c-818a-4c171b75ea22</td>\n",
       "      <td>Annotation</td>\n",
       "      <td>LGD</td>\n",
       "      <td>6.848749</td>\n",
       "    </tr>\n",
       "    <tr>\n",
       "      <th>1</th>\n",
       "      <td>29e685e5-3482-447f-9160-93966e2c41e6</td>\n",
       "      <td>Annotation</td>\n",
       "      <td>LGD</td>\n",
       "      <td>6.985607</td>\n",
       "    </tr>\n",
       "    <tr>\n",
       "      <th>2</th>\n",
       "      <td>344fd8bc-fd5a-4da9-87eb-593c62c8c603</td>\n",
       "      <td>Annotation</td>\n",
       "      <td>LGD</td>\n",
       "      <td>6.416180</td>\n",
       "    </tr>\n",
       "    <tr>\n",
       "      <th>3</th>\n",
       "      <td>86ff07ca-9b93-4f62-98c2-34c39b8801c4</td>\n",
       "      <td>Annotation</td>\n",
       "      <td>LGD</td>\n",
       "      <td>6.895183</td>\n",
       "    </tr>\n",
       "    <tr>\n",
       "      <th>4</th>\n",
       "      <td>96eb9cec-1b6f-42cb-8487-58ec2e186404</td>\n",
       "      <td>Annotation</td>\n",
       "      <td>LGD</td>\n",
       "      <td>6.701627</td>\n",
       "    </tr>\n",
       "  </tbody>\n",
       "</table>\n",
       "</div>"
      ],
      "text/plain": [
       "                              Object ID Object type Classification  \\\n",
       "0  7a0bd252-1529-4c0c-818a-4c171b75ea22  Annotation            LGD   \n",
       "1  29e685e5-3482-447f-9160-93966e2c41e6  Annotation            LGD   \n",
       "2  344fd8bc-fd5a-4da9-87eb-593c62c8c603  Annotation            LGD   \n",
       "3  86ff07ca-9b93-4f62-98c2-34c39b8801c4  Annotation            LGD   \n",
       "4  96eb9cec-1b6f-42cb-8487-58ec2e186404  Annotation            LGD   \n",
       "\n",
       "   Stiffness (log (E actual) PA)  \n",
       "0                       6.848749  \n",
       "1                       6.985607  \n",
       "2                       6.416180  \n",
       "3                       6.895183  \n",
       "4                       6.701627  "
      ]
     },
     "execution_count": 2,
     "metadata": {},
     "output_type": "execute_result"
    }
   ],
   "source": [
    "df2 = df2_unfiltered[['Object ID', 'Object type', 'Classification', 'Stiffness (log (E actual) PA)']]\n",
    "df1 = df1_unfiltered[['Object ID', 'Object type', 'Classification', 'Stiffness (log (E actual) PA)']]\n",
    "df1.head()"
   ]
  },
  {
   "cell_type": "code",
   "execution_count": 3,
   "metadata": {},
   "outputs": [
    {
     "data": {
      "text/html": [
       "<div>\n",
       "<style scoped>\n",
       "    .dataframe tbody tr th:only-of-type {\n",
       "        vertical-align: middle;\n",
       "    }\n",
       "\n",
       "    .dataframe tbody tr th {\n",
       "        vertical-align: top;\n",
       "    }\n",
       "\n",
       "    .dataframe thead th {\n",
       "        text-align: right;\n",
       "    }\n",
       "</style>\n",
       "<table border=\"1\" class=\"dataframe\">\n",
       "  <thead>\n",
       "    <tr style=\"text-align: right;\">\n",
       "      <th></th>\n",
       "      <th>Object ID</th>\n",
       "      <th>Object type</th>\n",
       "      <th>Classification</th>\n",
       "      <th>Stiffness (log (E actual) PA)</th>\n",
       "    </tr>\n",
       "  </thead>\n",
       "  <tbody>\n",
       "    <tr>\n",
       "      <th>0</th>\n",
       "      <td>f4dd3722-9b0b-45be-82b1-b5701390fb23</td>\n",
       "      <td>Annotation</td>\n",
       "      <td>LGD</td>\n",
       "      <td>5.752603</td>\n",
       "    </tr>\n",
       "    <tr>\n",
       "      <th>1</th>\n",
       "      <td>25ed0478-a9f2-43cf-9c2f-ce5d7d535ab5</td>\n",
       "      <td>Annotation</td>\n",
       "      <td>LGD</td>\n",
       "      <td>5.411505</td>\n",
       "    </tr>\n",
       "    <tr>\n",
       "      <th>2</th>\n",
       "      <td>57151830-f97e-40c8-816c-6fb8f179df44</td>\n",
       "      <td>Annotation</td>\n",
       "      <td>LGD</td>\n",
       "      <td>5.124381</td>\n",
       "    </tr>\n",
       "    <tr>\n",
       "      <th>3</th>\n",
       "      <td>a4e29dc8-2683-40ed-8cdc-bc6d3a21c992</td>\n",
       "      <td>Annotation</td>\n",
       "      <td>LGD</td>\n",
       "      <td>5.800853</td>\n",
       "    </tr>\n",
       "    <tr>\n",
       "      <th>4</th>\n",
       "      <td>778a383f-2284-4ea9-9d2d-f7e9a4b88e4d</td>\n",
       "      <td>Annotation</td>\n",
       "      <td>LGD</td>\n",
       "      <td>5.647026</td>\n",
       "    </tr>\n",
       "  </tbody>\n",
       "</table>\n",
       "</div>"
      ],
      "text/plain": [
       "                              Object ID Object type Classification  \\\n",
       "0  f4dd3722-9b0b-45be-82b1-b5701390fb23  Annotation            LGD   \n",
       "1  25ed0478-a9f2-43cf-9c2f-ce5d7d535ab5  Annotation            LGD   \n",
       "2  57151830-f97e-40c8-816c-6fb8f179df44  Annotation            LGD   \n",
       "3  a4e29dc8-2683-40ed-8cdc-bc6d3a21c992  Annotation            LGD   \n",
       "4  778a383f-2284-4ea9-9d2d-f7e9a4b88e4d  Annotation            LGD   \n",
       "\n",
       "   Stiffness (log (E actual) PA)  \n",
       "0                       5.752603  \n",
       "1                       5.411505  \n",
       "2                       5.124381  \n",
       "3                       5.800853  \n",
       "4                       5.647026  "
      ]
     },
     "execution_count": 3,
     "metadata": {},
     "output_type": "execute_result"
    }
   ],
   "source": [
    "df2.head()"
   ]
  },
  {
   "cell_type": "code",
   "execution_count": 4,
   "metadata": {},
   "outputs": [
    {
     "data": {
      "text/html": [
       "<div>\n",
       "<style scoped>\n",
       "    .dataframe tbody tr th:only-of-type {\n",
       "        vertical-align: middle;\n",
       "    }\n",
       "\n",
       "    .dataframe tbody tr th {\n",
       "        vertical-align: top;\n",
       "    }\n",
       "\n",
       "    .dataframe thead th {\n",
       "        text-align: right;\n",
       "    }\n",
       "</style>\n",
       "<table border=\"1\" class=\"dataframe\">\n",
       "  <thead>\n",
       "    <tr style=\"text-align: right;\">\n",
       "      <th></th>\n",
       "      <th>Object ID</th>\n",
       "      <th>Object type</th>\n",
       "      <th>Classification</th>\n",
       "      <th>Stiffness (log (E actual) PA) (1/4 scaled)</th>\n",
       "      <th>Stiffness (log (E actual) PA) (tiled)</th>\n",
       "    </tr>\n",
       "  </thead>\n",
       "  <tbody>\n",
       "    <tr>\n",
       "      <th>0</th>\n",
       "      <td>7a0bd252-1529-4c0c-818a-4c171b75ea22</td>\n",
       "      <td>Annotation</td>\n",
       "      <td>LGD</td>\n",
       "      <td>6.848749</td>\n",
       "      <td>5.368817</td>\n",
       "    </tr>\n",
       "    <tr>\n",
       "      <th>1</th>\n",
       "      <td>29e685e5-3482-447f-9160-93966e2c41e6</td>\n",
       "      <td>Annotation</td>\n",
       "      <td>LGD</td>\n",
       "      <td>6.985607</td>\n",
       "      <td>5.966017</td>\n",
       "    </tr>\n",
       "    <tr>\n",
       "      <th>2</th>\n",
       "      <td>344fd8bc-fd5a-4da9-87eb-593c62c8c603</td>\n",
       "      <td>Annotation</td>\n",
       "      <td>LGD</td>\n",
       "      <td>6.416180</td>\n",
       "      <td>5.126315</td>\n",
       "    </tr>\n",
       "    <tr>\n",
       "      <th>3</th>\n",
       "      <td>86ff07ca-9b93-4f62-98c2-34c39b8801c4</td>\n",
       "      <td>Annotation</td>\n",
       "      <td>LGD</td>\n",
       "      <td>6.895183</td>\n",
       "      <td>5.384763</td>\n",
       "    </tr>\n",
       "    <tr>\n",
       "      <th>4</th>\n",
       "      <td>96eb9cec-1b6f-42cb-8487-58ec2e186404</td>\n",
       "      <td>Annotation</td>\n",
       "      <td>LGD</td>\n",
       "      <td>6.701627</td>\n",
       "      <td>5.199659</td>\n",
       "    </tr>\n",
       "  </tbody>\n",
       "</table>\n",
       "</div>"
      ],
      "text/plain": [
       "                              Object ID Object type Classification  \\\n",
       "0  7a0bd252-1529-4c0c-818a-4c171b75ea22  Annotation            LGD   \n",
       "1  29e685e5-3482-447f-9160-93966e2c41e6  Annotation            LGD   \n",
       "2  344fd8bc-fd5a-4da9-87eb-593c62c8c603  Annotation            LGD   \n",
       "3  86ff07ca-9b93-4f62-98c2-34c39b8801c4  Annotation            LGD   \n",
       "4  96eb9cec-1b6f-42cb-8487-58ec2e186404  Annotation            LGD   \n",
       "\n",
       "   Stiffness (log (E actual) PA) (1/4 scaled)  \\\n",
       "0                                    6.848749   \n",
       "1                                    6.985607   \n",
       "2                                    6.416180   \n",
       "3                                    6.895183   \n",
       "4                                    6.701627   \n",
       "\n",
       "   Stiffness (log (E actual) PA) (tiled)  \n",
       "0                               5.368817  \n",
       "1                               5.966017  \n",
       "2                               5.126315  \n",
       "3                               5.384763  \n",
       "4                               5.199659  "
      ]
     },
     "execution_count": 4,
     "metadata": {},
     "output_type": "execute_result"
    }
   ],
   "source": [
    "# pd.set_option('display.max_rows', None)  # Show all rows\n",
    "df_combine = pd.merge(df1, df2, on=['Object ID', 'Object type', 'Classification'], suffixes=(' (1/4 scaled)', ' (tiled)'))\n",
    "df_combine.head()"
   ]
  },
  {
   "cell_type": "code",
   "execution_count": 5,
   "metadata": {},
   "outputs": [],
   "source": [
    "# Perform an outer join to include all rows from both DataFrames\n",
    "merged_df = pd.merge(df1, df2, on=['Object ID', 'Object type', 'Classification'], how='outer', suffixes=(' (1/4 scaled)', ' (tiled)'), indicator=True)\n",
    "\n",
    "# Filter rows that did not merge\n",
    "unmerged_rows = merged_df[merged_df['_merge'] != 'both']\n",
    "\n",
    "# Display the unmerged rows\n",
    "unmerged_rows.to_csv(os.path.join(datapath, '27620_unmerged_rows.csv'), index=False)"
   ]
  },
  {
   "cell_type": "code",
   "execution_count": 6,
   "metadata": {},
   "outputs": [
    {
     "name": "stdout",
     "output_type": "stream",
     "text": [
      "       Stiffness (log (E actual) PA)\n",
      "count                      60.000000\n",
      "mean                        6.526701\n",
      "std                         0.314872\n",
      "min                         6.013916\n",
      "25%                         6.206861\n",
      "50%                         6.579188\n",
      "75%                         6.797549\n",
      "max                         7.119532\n",
      "       Stiffness (log (E actual) PA)\n",
      "count                      81.000000\n",
      "mean                        5.573291\n",
      "std                         0.492706\n",
      "min                         4.476879\n",
      "25%                         5.229292\n",
      "50%                         5.584434\n",
      "75%                         5.855532\n",
      "max                         7.121520\n"
     ]
    }
   ],
   "source": [
    "print(df1.describe())\n",
    "print(df2.describe())"
   ]
  },
  {
   "cell_type": "code",
   "execution_count": 7,
   "metadata": {},
   "outputs": [
    {
     "data": {
      "application/vnd.plotly.v1+json": {
       "config": {
        "linkText": "Export to plot.ly",
        "plotlyServerURL": "https://plot.ly",
        "showLink": false
       },
       "data": [
        {
         "mode": "markers",
         "type": "scatter",
         "x": {
          "bdata": "rx5QZh5lG0DAXLHdQvEbQA7+syMrqhlAYbOqxaqUG0DVarwyd84aQBwcsqKCDhlACYnx8FdWGkCvoqRf2VsaQLOJh4h/7hpAnXCQv51iG0BQBIq77q0aQDcyZHxlihpAsj1S+6+oG0CzlHP8LJ0bQNsrtPIZaBlA2eDfyIUGG0BBHUpFRxYaQKV2dX3VOBxAG9HdeO6sGkBm29YHc74aQD0vH41mehxArlZv0gkWG0DYy2hEZo0aQHeV44XcUxxAKFdx3aaFG0BAE7801UsaQBUPhVUQLxtADb1qCgkTG0BV62zklEAbQG843cYniRtA138zt5ZHG0ChTId0lkYbQILLnXhSQRpA8VvkBpI1G0DMDhfX/ecaQNb3OtloqxhADxMrqEojGkB/41nscMoYQIugq1nZbxhAchscC1t2GECOfQNyDTgZQPcbe2P56hhAgO3k/OKUGECXG1NK5JkYQH7YbXjDGxhAnqWMAddmGEDHG+fWbsIYQJyRduDy0RhAmCY/vpFIGUBnaFWuZJsYQFD4POQFGxlAt/NdR6WTGUBFRXaHD0AZQBXJNvQ/DhhAmsmVTN6CGEChESWHc9QYQE/jxV/moRhAXr8ZYuCKGEDucj8XddoYQMwOF9f95xpA",
          "dtype": "f8"
         },
         "y": {
          "bdata": "YTNTaaoCF0C8GkV7YaUVQI+S9LxdfxRA662BrRI0F0Cg89HkjZYWQMJEZb7hsBZAjkvEdzzbGEB37OYw/4kVQCE3Y5vL6hRATqt5cnPMFEAPp4f51nkTQMQp02W6AhhApqNlot3mFUA1pmKO3lUWQIaR+6kz3RdAclRSTWfYF0DWn4DKUbAWQPJj24h4sBdAkKn6Fk9NF0ANtR+JlAMUQDAVcfPzhhhAdNmeD4X5FkA27rbTIk8WQFXv5UirPxhAggmDAlR4F0Bj0VNoSfMWQB+GRESreRVA+KYmFxzXE0Dyh6EASuQYQETxmr9YgRRA5lxzD1X/FEDrUxICh2wWQDdbkmagGBZAfT8UUNE0GEBP/tDH2rUYQGiYTKjvhRRAbVrxWRPDFEBi6v0yV+EXQH1hqWPSfxZAVUHkqx+oFEATgELnfDMXQEqzlXE1lxRAlHiA9DtZGUCxmyFusWcUQBRgG5tkXhZACXfy3z/CFkArusVhCM0WQG1SCQNaGBZA/HTCn298HEAiIb3tsboVQKtGTNxsiBRA4fSJlwKBFUDUo0sty50VQMRLHOt1VhZAyRxP9I4fG0D2d0TyhpcUQMq9zdZS6BFA7WoQ6y/jGEBeEJZTME4VQJkW3q14PxVAUXvIlhDMFUAzcHU9JyIXQKsMpgv4ZRRA4aMc0d/XF0A2Pm02UT0VQD6Z+7upohJAMvcmDB5MGkA0MPdr4JoVQGiyPYI0xhNALchh8xtrFkD+hhT5sQoXQD261LL82RdAAE28t61pFkBzsCdPk4QTQLCv0GKEpxJANMNkrxkEEkCJrEd3ljIVQKRFe5EQbBdAQJ4jE2xfGkBXKh+3nKsWQKaOfskAyRVA",
          "dtype": "f8"
         }
        }
       ],
       "layout": {
        "template": {
         "data": {
          "scatter": [
           {
            "type": "scatter"
           }
          ]
         }
        },
        "title": {
         "text": "Correlation of Stiffness Values"
        },
        "xaxis": {
         "title": {
          "text": "1/4 Scaled"
         }
        },
        "yaxis": {
         "title": {
          "text": "Tiled"
         }
        }
       }
      }
     },
     "metadata": {},
     "output_type": "display_data"
    }
   ],
   "source": [
    "trace = go.Scatter(x=df1['Stiffness (log (E actual) PA)'], y=df2['Stiffness (log (E actual) PA)'], mode=\"markers\")\n",
    "data = [trace]\n",
    "layout = go.Layout(title=\"Correlation of Stiffness Values\", xaxis=dict(title=\"1/4 Scaled\"), yaxis=dict(title=\"Tiled\"))\n",
    "iplot({\"data\": data, \"layout\": layout})"
   ]
  },
  {
   "cell_type": "code",
   "execution_count": 8,
   "metadata": {},
   "outputs": [
    {
     "data": {
      "application/vnd.plotly.v1+json": {
       "config": {
        "plotlyServerURL": "https://plot.ly"
       },
       "data": [
        {
         "customdata": [
          [
           "7a0bd252-1529-4c0c-818a-4c171b75ea22"
          ],
          [
           "29e685e5-3482-447f-9160-93966e2c41e6"
          ],
          [
           "344fd8bc-fd5a-4da9-87eb-593c62c8c603"
          ],
          [
           "86ff07ca-9b93-4f62-98c2-34c39b8801c4"
          ],
          [
           "96eb9cec-1b6f-42cb-8487-58ec2e186404"
          ],
          [
           "82c59110-7a18-42b0-81d9-1912994da805"
          ],
          [
           "74b412fc-a407-4ee3-9c91-855060632efd"
          ],
          [
           "8dee3823-c1ed-415d-ae3e-5ae6939f9939"
          ],
          [
           "76dd5bd4-d3d5-41f7-8d9c-fb6b2f23635a"
          ],
          [
           "25ed0478-a9f2-43cf-9c2f-ce5d7d535ab5"
          ],
          [
           "f5af4d1d-bd3f-46a7-b55a-d56c740d9c60"
          ],
          [
           "ddcfc5a4-a84c-4737-89a6-41bc8dbf298b"
          ],
          [
           "a4e29dc8-2683-40ed-8cdc-bc6d3a21c992"
          ],
          [
           "778a383f-2284-4ea9-9d2d-f7e9a4b88e4d"
          ],
          [
           "57151830-f97e-40c8-816c-6fb8f179df44"
          ],
          [
           "595ab101-4381-4d64-988f-f060494f2ca1"
          ],
          [
           "df0f1d39-7754-4f89-b428-e9bec32aae71"
          ],
          [
           "6638fa88-c206-4e81-97bd-8ea9971c7125"
          ],
          [
           "0cb107b7-9207-4ed2-ac17-b192f3b3099c"
          ],
          [
           "95793fa6-f5bb-4639-8fa4-78a37d3bc129"
          ],
          [
           "e4a495f7-966b-49ed-bcdc-d600f39d22c1"
          ],
          [
           "8c955e15-7588-48ac-b030-7a7704b8b007"
          ],
          [
           "c2eef5e7-5df2-4d97-9c71-af6101cd22d1"
          ],
          [
           "3e742171-52b2-42f5-93e6-6187d164e18e"
          ],
          [
           "fa60688d-0d0d-4f0b-b077-95a3df28c859"
          ],
          [
           "0f2bf6ef-29b9-44be-98db-9b3af5865c4f"
          ],
          [
           "97b9e6b5-aa1f-4b7a-addc-a816a1054e5d"
          ],
          [
           "2e6a9e92-6c9a-4769-90d5-4b30cca11032"
          ],
          [
           "6fca89fe-0c64-442b-9511-b9814325a057"
          ],
          [
           "de619169-06ef-491e-9e48-e4a7b989bc19"
          ],
          [
           "96669bfb-982a-4219-abba-700931404b14"
          ],
          [
           "38e996f9-1e16-46d0-94ba-be7c20657e12"
          ],
          [
           "c0179997-c530-4aca-a476-b717f713037c"
          ],
          [
           "26dee2f4-6a1b-4998-9d26-8dbd1e43ccc0"
          ],
          [
           "79c593c7-c4f6-49d2-914e-8f7d782dd434"
          ],
          [
           "47d12eab-2739-4242-9aed-a10f1a586b13"
          ],
          [
           "43490582-2323-4fac-a2d4-ecf0276a2b59"
          ],
          [
           "c0172ad7-d4f6-4142-9730-80c17258e0cc"
          ],
          [
           "052391ff-a734-4738-beb8-9844c7d07ad3"
          ],
          [
           "5ad07638-f672-4c01-8b39-1b83fafff323"
          ],
          [
           "f0bdf77b-db91-4a19-a6cf-7a5038fb5b58"
          ],
          [
           "6c0b8242-4f90-4914-a728-f777df1372c9"
          ],
          [
           "fa727617-ec30-4dfb-bdcb-5b8d822f3fde"
          ],
          [
           "fb0e13d7-e550-4901-8a53-fe37d8d6d2a0"
          ],
          [
           "117739ab-17f8-4023-b6de-1d6532f72fa1"
          ],
          [
           "a59fb383-b0c2-44c1-9c48-81d420d7ec53"
          ],
          [
           "cade3792-187e-44a2-97f7-0324bf1a8078"
          ],
          [
           "6409d1b5-2425-489b-b123-82c59245d9aa"
          ],
          [
           "049f4f93-f340-4ae2-bf87-a8d3ecd9f0ad"
          ],
          [
           "23ef971d-e987-48b4-a5c2-6b6bc3a08fe1"
          ],
          [
           "86688b32-2da9-463f-a7a8-aa671222a5f1"
          ],
          [
           "f03f9171-2291-4582-a2b6-f9c996fb7416"
          ],
          [
           "7622ddc0-de6e-43e0-bf2a-65642e8edf87"
          ],
          [
           "58bb19f0-ee72-4583-847b-44b079ddac4f"
          ],
          [
           "2108e69c-0591-470a-ad0f-1c87d4727b0c"
          ],
          [
           "f8bf599b-66c2-461a-a4d5-0896ee344a5c"
          ],
          [
           "21539948-c1b6-448e-8457-58db5b8dc1e5"
          ],
          [
           "038429a5-5687-4b01-8f63-94c19ace7645"
          ],
          [
           "e9e3f352-4c78-4b27-8270-e169522301c2"
          ],
          [
           "bf7ac443-b351-4efc-8033-952a9232922a"
          ]
         ],
         "hovertemplate": "Stiffness (log (E actual) PA) (1/4 scaled)=%{x}<br>Stiffness (log (E actual) PA) (tiled)=%{y}<br>Object ID=%{customdata[0]}<extra></extra>",
         "legendgroup": "",
         "marker": {
          "color": "#1F77B4",
          "symbol": "circle"
         },
         "mode": "markers",
         "name": "",
         "orientation": "v",
         "showlegend": false,
         "type": "scatter",
         "x": {
          "bdata": "rx5QZh5lG0DAXLHdQvEbQA7+syMrqhlAYbOqxaqUG0DVarwyd84aQBwcsqKCDhlACYnx8FdWGkCvoqRf2VsaQLOJh4h/7hpAnXCQv51iG0BQBIq77q0aQDcyZHxlihpAsj1S+6+oG0CzlHP8LJ0bQNsrtPIZaBlA2eDfyIUGG0BBHUpFRxYaQKV2dX3VOBxAG9HdeO6sGkBm29YHc74aQD0vH41mehxArlZv0gkWG0DYy2hEZo0aQHeV44XcUxxAKFdx3aaFG0BAE7801UsaQBUPhVUQLxtADb1qCgkTG0BV62zklEAbQG843cYniRtA138zt5ZHG0ChTId0lkYbQILLnXhSQRpA8VvkBpI1G0DMDhfX/ecaQNb3OtloqxhADxMrqEojGkB/41nscMoYQIugq1nZbxhAchscC1t2GECOfQNyDTgZQPcbe2P56hhAgO3k/OKUGECXG1NK5JkYQH7YbXjDGxhAnqWMAddmGEDHG+fWbsIYQJyRduDy0RhAmCY/vpFIGUBnaFWuZJsYQFD4POQFGxlAt/NdR6WTGUBFRXaHD0AZQBXJNvQ/DhhAmsmVTN6CGEChESWHc9QYQE/jxV/moRhAXr8ZYuCKGEDucj8XddoYQMwOF9f95xpA",
          "dtype": "f8"
         },
         "xaxis": "x",
         "y": {
          "bdata": "H4ZERKt5FUCGkfupM90XQETxmr9YgRRAd+zmMP+JFUBOq3lyc8wUQPimJhcc1xNApqNlot3mFUAPp4f51nkTQCE3Y5vL6hRAvBpFe2GlFUANtR+JlAMUQDbuttMiTxZA662BrRI0F0Cg89HkjZYWQI+S9LxdfxRAaJhMqO+FFEDmXHMPVf8UQBOAQud8MxdASrOVcTWXFEBVQeSrH6gUQOtTEgKHbBZA4fSJlwKBFUCxmyFusWcUQG1SCQNaGBZAIiG97bG6FUD2d0TyhpcUQAl38t8/whZAq0ZM3GyIFEDESxzrdVYWQJR4gPQ7WRlAK7rFYQjNFkAUYBubZF4WQMkcT/SOHxtA/HTCn298HEDUo0sty50VQHOwJ0+ThBNAsK/QYoSnEkDtahDrL+MYQP6GFPmxChdAM3B1PSciF0AATby3rWkWQECeIxNsXxpA4aMc0d/XF0Ay9yYMHkwaQC3IYfMbaxZApEV7kRBsF0A2Pm02UT0VQImsR3eWMhVAmRberXg/FUCrDKYL+GUUQDQw92vgmhVAVyoft5yrFkBRe8iWEMwVQMq9zdZS6BFAaLI9gjTGE0BeEJZTME4VQDTDZK8ZBBJAPbrUsvzZF0A+mfu7qaISQKaOfskAyRVA",
          "dtype": "f8"
         },
         "yaxis": "y"
        },
        {
         "hovertemplate": "<b>OLS trendline</b><br>Stiffness (log (E actual) PA) (tiled) = 0.219185 * Stiffness (log (E actual) PA) (1/4 scaled) + 4.04486<br>R<sup>2</sup>=0.017736<br><br>Stiffness (log (E actual) PA) (1/4 scaled)=%{x}<br>Stiffness (log (E actual) PA) (tiled)=%{y} <b>(trend)</b><extra></extra>",
         "legendgroup": "",
         "marker": {
          "color": "#1F77B4",
          "symbol": "circle"
         },
         "mode": "lines",
         "name": "",
         "showlegend": false,
         "type": "scatter",
         "x": {
          "bdata": "Fck29D8OGEB+2G14wxsYQJ6ljAHXZhhAi6CrWdlvGEByGxwLW3YYQJrJlUzeghhAXr8ZYuCKGECA7eT84pQYQJcbU0rkmRhAZ2hVrmSbGEBP48Vf5qEYQNb3OtloqxhAxxvn1m7CGEB/41nscMoYQJyRduDy0RhAoRElh3PUGEDucj8XddoYQPcbe2P56hhAHByyooIOGUBQ+DzkBRsZQI59A3INOBlARUV2hw9AGUCYJj++kUgZQNsrtPIZaBlAt/NdR6WTGUAO/rMjK6oZQEEdSkVHFhpADxMrqEojGkCCy514UkEaQEATvzTVSxpACYnx8FdWGkCvoqRf2VsaQDcyZHxlihpA2MtoRGaNGkAb0d147qwaQFAEirvurRpAZtvWB3O+GkDVarwyd84aQMwOF9f95xpAzA4X1/3nGkCziYeIf+4aQNng38iFBhtADb1qCgkTG0CuVm/SCRYbQBUPhVUQLxtA8VvkBpI1G0BV62zklEAbQKFMh3SWRhtA138zt5ZHG0CdcJC/nWIbQK8eUGYeZRtAKFdx3aaFG0BvON3GJ4kbQGGzqsWqlBtAs5Rz/CydG0CyPVL7r6gbQMBcsd1C8RtApXZ1fdU4HEB3leOF3FMcQD0vH41mehxA",
          "dtype": "f8"
         },
         "xaxis": "x",
         "y": {
          "bdata": "9E0qDrxzFUCqoSlUsnYVQL0Kd/UmhxVAjVZ1eSCJFUDaCq6RjYoVQGDEjaxLjRVA+P1zBQ2PFUD8H460PpEVQPwSHYxXkhVAStTGzKuSFUCYiP/kGJQVQIK/i34ulhVAIUoXXjqbFUC9v/m2+5wVQD9KTvqgnhVAweETZi2fFUD1qr5ofqAVQEeBETAdpBVAaImAKuerFUDqBmRFpa4VQL5amicCtRVAWtB8gMO2FUAQMe3uoLgVQGUc6TyKvxVAIpo6kBXJFUCoOThaBc4VQF5PK4q35RVA+recupHoFUAC4u7HJu8VQCDvlox08RVAOsBCUcLzFUBX2ls+9/QVQKyeBBMr/xVASCFYlNP/FUCeDFTivAYWQNLibw31BhZAIH3G1JMKFkBYaIuGFg4WQHmK3NGuExZAeYrc0a4TFkDHPhXqGxUWQJqfvPRfGhZAHB2gDx4dFkC4n/OQxh0WQLyausZCIxZADovv3q8kFkBCRym5GScWQHYQ1LtqKBZAqubv5qIoFkAZyupyjy4WQJcltN4bLxZAIefLVz02FkDTGLHuATcWQCT8dN6HORZA2lzlTGU7FkAoBK086z0WQL0RMXLTTRZAGg2dfINdFkCGtJsIcGMWQEM/XoTiaxZA",
          "dtype": "f8"
         },
         "yaxis": "y"
        }
       ],
       "layout": {
        "legend": {
         "tracegroupgap": 0
        },
        "margin": {
         "t": 60
        },
        "template": {
         "data": {
          "scatter": [
           {
            "type": "scatter"
           }
          ]
         }
        },
        "xaxis": {
         "anchor": "y",
         "domain": [
          0,
          1
         ],
         "title": {
          "text": "Stiffness (log (E actual) PA) (1/4 scaled)"
         }
        },
        "yaxis": {
         "anchor": "x",
         "domain": [
          0,
          1
         ],
         "title": {
          "text": "Stiffness (log (E actual) PA) (tiled)"
         }
        }
       }
      }
     },
     "metadata": {},
     "output_type": "display_data"
    }
   ],
   "source": [
    "# px.scatter(df_combine, x='Stiffness (log (E actual) PA) (1/4 scaled)', y='Stiffness (log (E actual) PA) (tiled)')\n",
    "\n",
    "# Create the scatter plot with 'Object ID' in hover data\n",
    "fig = px.scatter(\n",
    "    df_combine,\n",
    "    x='Stiffness (log (E actual) PA) (1/4 scaled)',\n",
    "    y='Stiffness (log (E actual) PA) (tiled)',\n",
    "    hover_data=['Object ID'],  # Include 'Object ID' in hover data\n",
    "    trendline=\"ols\"  # Add a regression line\n",
    ")\n",
    "\n",
    "# Show the plot\n",
    "fig.show()"
   ]
  },
  {
   "cell_type": "code",
   "execution_count": 9,
   "metadata": {},
   "outputs": [
    {
     "data": {
      "application/vnd.plotly.v1+json": {
       "config": {
        "linkText": "Export to plot.ly",
        "plotlyServerURL": "https://plot.ly",
        "showLink": false
       },
       "data": [
        {
         "name": "1/4 Scaled",
         "nbinsx": 100,
         "opacity": 0.75,
         "type": "histogram",
         "x": {
          "bdata": "rx5QZh5lG0DAXLHdQvEbQA7+syMrqhlAYbOqxaqUG0DVarwyd84aQBwcsqKCDhlACYnx8FdWGkCvoqRf2VsaQLOJh4h/7hpAnXCQv51iG0BQBIq77q0aQDcyZHxlihpAsj1S+6+oG0CzlHP8LJ0bQNsrtPIZaBlA2eDfyIUGG0BBHUpFRxYaQKV2dX3VOBxAG9HdeO6sGkBm29YHc74aQD0vH41mehxArlZv0gkWG0DYy2hEZo0aQHeV44XcUxxAKFdx3aaFG0BAE7801UsaQBUPhVUQLxtADb1qCgkTG0BV62zklEAbQG843cYniRtA138zt5ZHG0ChTId0lkYbQILLnXhSQRpA8VvkBpI1G0DMDhfX/ecaQNb3OtloqxhADxMrqEojGkB/41nscMoYQIugq1nZbxhAchscC1t2GECOfQNyDTgZQPcbe2P56hhAgO3k/OKUGECXG1NK5JkYQH7YbXjDGxhAnqWMAddmGEDHG+fWbsIYQJyRduDy0RhAmCY/vpFIGUBnaFWuZJsYQFD4POQFGxlAt/NdR6WTGUBFRXaHD0AZQBXJNvQ/DhhAmsmVTN6CGEChESWHc9QYQE/jxV/moRhAXr8ZYuCKGEDucj8XddoYQMwOF9f95xpA",
          "dtype": "f8"
         }
        },
        {
         "name": "Tiled",
         "nbinsx": 100,
         "opacity": 0.75,
         "type": "histogram",
         "x": {
          "bdata": "YTNTaaoCF0C8GkV7YaUVQI+S9LxdfxRA662BrRI0F0Cg89HkjZYWQMJEZb7hsBZAjkvEdzzbGEB37OYw/4kVQCE3Y5vL6hRATqt5cnPMFEAPp4f51nkTQMQp02W6AhhApqNlot3mFUA1pmKO3lUWQIaR+6kz3RdAclRSTWfYF0DWn4DKUbAWQPJj24h4sBdAkKn6Fk9NF0ANtR+JlAMUQDAVcfPzhhhAdNmeD4X5FkA27rbTIk8WQFXv5UirPxhAggmDAlR4F0Bj0VNoSfMWQB+GRESreRVA+KYmFxzXE0Dyh6EASuQYQETxmr9YgRRA5lxzD1X/FEDrUxICh2wWQDdbkmagGBZAfT8UUNE0GEBP/tDH2rUYQGiYTKjvhRRAbVrxWRPDFEBi6v0yV+EXQH1hqWPSfxZAVUHkqx+oFEATgELnfDMXQEqzlXE1lxRAlHiA9DtZGUCxmyFusWcUQBRgG5tkXhZACXfy3z/CFkArusVhCM0WQG1SCQNaGBZA/HTCn298HEAiIb3tsboVQKtGTNxsiBRA4fSJlwKBFUDUo0sty50VQMRLHOt1VhZAyRxP9I4fG0D2d0TyhpcUQMq9zdZS6BFA7WoQ6y/jGEBeEJZTME4VQJkW3q14PxVAUXvIlhDMFUAzcHU9JyIXQKsMpgv4ZRRA4aMc0d/XF0A2Pm02UT0VQD6Z+7upohJAMvcmDB5MGkA0MPdr4JoVQGiyPYI0xhNALchh8xtrFkD+hhT5sQoXQD261LL82RdAAE28t61pFkBzsCdPk4QTQLCv0GKEpxJANMNkrxkEEkCJrEd3ljIVQKRFe5EQbBdAQJ4jE2xfGkBXKh+3nKsWQKaOfskAyRVA",
          "dtype": "f8"
         }
        }
       ],
       "layout": {
        "template": {
         "data": {
          "scatter": [
           {
            "type": "scatter"
           }
          ]
         }
        },
        "title": {
         "text": "Distribution of Stiffness Values"
        },
        "xaxis": {
         "title": {
          "text": "Stiffness (log (E actual) PA)"
         }
        },
        "yaxis": {
         "title": {
          "text": "Frequency"
         }
        }
       }
      }
     },
     "metadata": {},
     "output_type": "display_data"
    }
   ],
   "source": [
    "trace0 = go.Histogram(\n",
    "    x=df1['Stiffness (log (E actual) PA)'], \n",
    "    name='1/4 Scaled', \n",
    "    opacity=0.75,\n",
    "    nbinsx=100\n",
    ")\n",
    "trace1 = go.Histogram(\n",
    "    x=df2['Stiffness (log (E actual) PA)'], \n",
    "    name='Tiled', \n",
    "    opacity=0.75,\n",
    "    nbinsx=100\n",
    ")\n",
    "data = [trace0, trace1]\n",
    "layout = go.Layout(title=\"Distribution of Stiffness Values\", xaxis=dict(title=\"Stiffness (log (E actual) PA)\"), yaxis=dict(title=\"Frequency\"))\n",
    "iplot({\"data\": data, \"layout\": layout})"
   ]
  },
  {
   "cell_type": "code",
   "execution_count": 10,
   "metadata": {},
   "outputs": [
    {
     "data": {
      "application/vnd.plotly.v1+json": {
       "config": {
        "linkText": "Export to plot.ly",
        "plotlyServerURL": "https://plot.ly",
        "showLink": false
       },
       "data": [
        {
         "name": "1/4 Scaled",
         "nbinsx": 100,
         "opacity": 0.75,
         "type": "histogram",
         "x": {
          "bdata": "rx5QZh5lG0DAXLHdQvEbQA7+syMrqhlAYbOqxaqUG0DVarwyd84aQBwcsqKCDhlACYnx8FdWGkCvoqRf2VsaQLOJh4h/7hpAnXCQv51iG0BQBIq77q0aQDcyZHxlihpAsj1S+6+oG0CzlHP8LJ0bQNsrtPIZaBlA2eDfyIUGG0BBHUpFRxYaQKV2dX3VOBxAG9HdeO6sGkBm29YHc74aQD0vH41mehxArlZv0gkWG0DYy2hEZo0aQHeV44XcUxxAKFdx3aaFG0BAE7801UsaQBUPhVUQLxtADb1qCgkTG0BV62zklEAbQG843cYniRtA138zt5ZHG0ChTId0lkYbQILLnXhSQRpA8VvkBpI1G0DMDhfX/ecaQNb3OtloqxhADxMrqEojGkB/41nscMoYQIugq1nZbxhAchscC1t2GECOfQNyDTgZQPcbe2P56hhAgO3k/OKUGECXG1NK5JkYQH7YbXjDGxhAnqWMAddmGEDHG+fWbsIYQJyRduDy0RhAmCY/vpFIGUBnaFWuZJsYQFD4POQFGxlAt/NdR6WTGUBFRXaHD0AZQBXJNvQ/DhhAmsmVTN6CGEChESWHc9QYQE/jxV/moRhAXr8ZYuCKGEDucj8XddoYQMwOF9f95xpA",
          "dtype": "f8"
         }
        },
        {
         "name": "Tiled",
         "nbinsx": 100,
         "opacity": 0.75,
         "type": "histogram",
         "x": {
          "bdata": "YTNTaaoCF0C8GkV7YaUVQI+S9LxdfxRA662BrRI0F0Cg89HkjZYWQMJEZb7hsBZAjkvEdzzbGEB37OYw/4kVQCE3Y5vL6hRATqt5cnPMFEAPp4f51nkTQMQp02W6AhhApqNlot3mFUA1pmKO3lUWQIaR+6kz3RdAclRSTWfYF0DWn4DKUbAWQPJj24h4sBdAkKn6Fk9NF0ANtR+JlAMUQDAVcfPzhhhAdNmeD4X5FkA27rbTIk8WQFXv5UirPxhAggmDAlR4F0Bj0VNoSfMWQB+GRESreRVA+KYmFxzXE0Dyh6EASuQYQETxmr9YgRRA5lxzD1X/FEDrUxICh2wWQDdbkmagGBZAfT8UUNE0GEBP/tDH2rUYQGiYTKjvhRRAbVrxWRPDFEBi6v0yV+EXQH1hqWPSfxZAVUHkqx+oFEATgELnfDMXQEqzlXE1lxRAlHiA9DtZGUCxmyFusWcUQBRgG5tkXhZACXfy3z/CFkArusVhCM0WQG1SCQNaGBZA/HTCn298HEAiIb3tsboVQKtGTNxsiBRA4fSJlwKBFUDUo0sty50VQMRLHOt1VhZAyRxP9I4fG0D2d0TyhpcUQMq9zdZS6BFA7WoQ6y/jGEBeEJZTME4VQJkW3q14PxVAUXvIlhDMFUAzcHU9JyIXQKsMpgv4ZRRA4aMc0d/XF0A2Pm02UT0VQD6Z+7upohJAMvcmDB5MGkA0MPdr4JoVQGiyPYI0xhNALchh8xtrFkD+hhT5sQoXQD261LL82RdAAE28t61pFkBzsCdPk4QTQLCv0GKEpxJANMNkrxkEEkCJrEd3ljIVQKRFe5EQbBdAQJ4jE2xfGkBXKh+3nKsWQKaOfskAyRVA",
          "dtype": "f8"
         }
        },
        {
         "line": {
          "color": "blue",
          "width": 2
         },
         "mode": "lines",
         "name": "1/4 Scaled KDE",
         "type": "scatter",
         "x": {
          "bdata": "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",
          "dtype": "f8"
         },
         "y": {
          "bdata": "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",
          "dtype": "f8"
         }
        },
        {
         "line": {
          "color": "orange",
          "width": 2
         },
         "mode": "lines",
         "name": "Tiled KDE",
         "type": "scatter",
         "x": {
          "bdata": "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",
          "dtype": "f8"
         },
         "y": {
          "bdata": "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",
          "dtype": "f8"
         }
        }
       ],
       "layout": {
        "template": {
         "data": {
          "scatter": [
           {
            "type": "scatter"
           }
          ]
         }
        },
        "title": {
         "text": "Distribution of Stiffness Values with KDE"
        },
        "xaxis": {
         "title": {
          "text": "Stiffness (log (E actual) PA)"
         }
        },
        "yaxis": {
         "title": {
          "text": "Frequency"
         }
        }
       }
      }
     },
     "metadata": {},
     "output_type": "display_data"
    }
   ],
   "source": [
    "import plotly.graph_objs as go\n",
    "from plotly.offline import iplot\n",
    "import numpy as np\n",
    "from scipy.stats import gaussian_kde\n",
    "\n",
    "# Create histogram traces with a specified number of bins\n",
    "trace0 = go.Histogram(\n",
    "    x=df1['Stiffness (log (E actual) PA)'],\n",
    "    name='1/4 Scaled',\n",
    "    opacity=0.75,\n",
    "    nbinsx=100  # Specify the number of bins\n",
    ")\n",
    "trace1 = go.Histogram(\n",
    "    x=df2['Stiffness (log (E actual) PA)'],\n",
    "    name='Tiled',\n",
    "    opacity=0.75,\n",
    "    nbinsx=100  # Specify the number of bins\n",
    ")\n",
    "\n",
    "# Create KDE traces\n",
    "kde0 = go.Scatter(\n",
    "    x=np.linspace(min(df1['Stiffness (log (E actual) PA)']), max(df1['Stiffness (log (E actual) PA)']), 200),\n",
    "    y=gaussian_kde(df1['Stiffness (log (E actual) PA)'])(np.linspace(min(df1['Stiffness (log (E actual) PA)']), max(df1['Stiffness (log (E actual) PA)']), 200)),\n",
    "    mode='lines',\n",
    "    name='1/4 Scaled KDE',\n",
    "    line=dict(color='blue', width=2)\n",
    ")\n",
    "kde1 = go.Scatter(\n",
    "    x=np.linspace(min(df2['Stiffness (log (E actual) PA)']), max(df2['Stiffness (log (E actual) PA)']), 200),\n",
    "    y=gaussian_kde(df2['Stiffness (log (E actual) PA)'])(np.linspace(min(df2['Stiffness (log (E actual) PA)']), max(df2['Stiffness (log (E actual) PA)']), 200)),\n",
    "    mode='lines',\n",
    "    name='Tiled KDE',\n",
    "    line=dict(color='orange', width=2)\n",
    ")\n",
    "\n",
    "# Combine the traces into a data list\n",
    "data = [trace0, trace1, kde0, kde1]\n",
    "\n",
    "# Define the layout\n",
    "layout = go.Layout(\n",
    "    title=\"Distribution of Stiffness Values with KDE\",\n",
    "    xaxis=dict(title=\"Stiffness (log (E actual) PA)\"),\n",
    "    yaxis=dict(title=\"Frequency\")\n",
    ")\n",
    "\n",
    "# Create the figure and plot\n",
    "fig = go.Figure(data=data, layout=layout)\n",
    "iplot(fig)\n"
   ]
  },
  {
   "cell_type": "code",
   "execution_count": 11,
   "metadata": {},
   "outputs": [
    {
     "name": "stdout",
     "output_type": "stream",
     "text": [
      "Spearman's Rank Correlation: 0.17029967075373348\n",
      "P-value: 0.1932883465170379\n"
     ]
    }
   ],
   "source": [
    "from scipy.stats import spearmanr\n",
    "\n",
    "# Perform Spearman's Rank Correlation\n",
    "correlation, p_value = spearmanr(\n",
    "    df_combine['Stiffness (log (E actual) PA) (1/4 scaled)'], \n",
    "    df_combine['Stiffness (log (E actual) PA) (tiled)']\n",
    ")\n",
    "\n",
    "print(f\"Spearman's Rank Correlation: {correlation}\")\n",
    "print(f\"P-value: {p_value}\")\n"
   ]
  },
  {
   "cell_type": "code",
   "execution_count": 12,
   "metadata": {},
   "outputs": [
    {
     "data": {
      "text/plain": [
       "ShapiroResult(statistic=np.float64(0.9308095568509709), pvalue=np.float64(0.002149692282858113))"
      ]
     },
     "execution_count": 12,
     "metadata": {},
     "output_type": "execute_result"
    }
   ],
   "source": [
    "sp.stats.shapiro(df_combine['Stiffness (log (E actual) PA) (1/4 scaled)'])"
   ]
  },
  {
   "cell_type": "code",
   "execution_count": 14,
   "metadata": {},
   "outputs": [
    {
     "data": {
      "text/plain": [
       "ShapiroResult(statistic=np.float64(0.9483822147442253), pvalue=np.float64(0.013081842674462905))"
      ]
     },
     "execution_count": 14,
     "metadata": {},
     "output_type": "execute_result"
    }
   ],
   "source": [
    "sp.stats.shapiro(df_combine['Stiffness (log (E actual) PA) (tiled)'])"
   ]
  },
  {
   "cell_type": "markdown",
   "metadata": {},
   "source": [
    "<b>Statistic (Pearson correlation coefficient):</b> 0.133177871846851<br>\n",
    "<b>P-value:</b> 0.3103831678100672<br>\n",
    "<br>\n",
    "<b>Pearson Correlation Coefficient:</b><br>\n",
    "<br>\n",
    "The Pearson correlation coefficient (statistic) measures the linear relationship between two variables.\n",
    "A value of 0.133177871846851 indicates a weak positive linear relationship between the two variables. The coefficient ranges from -1 to 1, where:\n",
    "1 indicates a perfect positive linear relationship.\n",
    "-1 indicates a perfect negative linear relationship.\n",
    "0 indicates no linear relationship.<br>\n",
    "<br>\n",
    "<b>P-value:</b><br>\n",
    "<br>\n",
    "The p-value (pvalue) tests the null hypothesis that there is no correlation between the two variables.\n",
    "A p-value of 0.3103831678100672 suggests that the correlation is not statistically significant at common significance levels (e.g., 0.05). This means there is not enough evidence to reject the null hypothesis, indicating that the observed correlation could be due to random chance."
   ]
  },
  {
   "cell_type": "code",
   "execution_count": 18,
   "metadata": {},
   "outputs": [
    {
     "data": {
      "text/plain": [
       "PearsonRResult(statistic=np.float64(0.133177871846851), pvalue=np.float64(0.3103831678100672))"
      ]
     },
     "execution_count": 18,
     "metadata": {},
     "output_type": "execute_result"
    }
   ],
   "source": [
    "stats.pearsonr(df_combine['Stiffness (log (E actual) PA) (1/4 scaled)'], df_combine['Stiffness (log (E actual) PA) (tiled)'])"
   ]
  },
  {
   "cell_type": "code",
   "execution_count": 19,
   "metadata": {},
   "outputs": [
    {
     "data": {
      "text/plain": [
       "LinregressResult(slope=np.float64(0.21918480078614833), intercept=np.float64(4.0448631163295765), rvalue=np.float64(0.133177871846851), pvalue=np.float64(0.31038316781006703), stderr=np.float64(0.21417974880452773), intercept_stderr=np.float64(1.3994859269522266))"
      ]
     },
     "execution_count": 19,
     "metadata": {},
     "output_type": "execute_result"
    }
   ],
   "source": [
    "stats.linregress(df_combine['Stiffness (log (E actual) PA) (1/4 scaled)'], df_combine['Stiffness (log (E actual) PA) (tiled)'])"
   ]
  },
  {
   "cell_type": "markdown",
   "metadata": {},
   "source": [
    "<b>1. Low $R^2$ Value:</b><br>\n",
    "- An $R^2$ value of 0.0177 is very close to 0, which indicates that the independent variable (in this case, 'Stiffness (log (E actual) PA) (1/4 scaled)') explains only a very small proportion of the variance in the dependent variable ('Stiffness (log (E actual) PA) (tiled)').\n",
    "- This suggests that the linear regression model does not fit the data well, and the relationship between the variables is weak.\n",
    "<br>\n",
    "\n",
    "<b>2. Goodness of Fit:</b><br>\n",
    "The $R^2$ value ranges from 0 to 1, where:\n",
    "- 1 indicates a perfect fit, meaning the model explains all the variability of the response data around its mean.\n",
    "- 0 indicates that the model does not explain any of the variability of the response data around its mean.\n",
    "An $R^2 value of 0.0177 is very low, indicating a poor fit.\n",
    "<br>\n",
    "<b>Implications</b>\n",
    "\n",
    "<b>Weak Relationship:</b> The low $R^2$ value suggests that there is a weak linear relationship between the two variables. This means that changes in the independent variable do not strongly predict changes in the dependent variable.<br>\n",
    "<b>Model Inadequacy:</b> The linear regression model may not be appropriate for capturing the relationship between these variables. You might need to consider other types of models or transformations of the data.<br>\n",
    "<b>Data Quality:</b> Ensure that the data is clean and correctly preprocessed. Outliers or errors in the data can affect the $R^2$ value."
   ]
  },
  {
   "cell_type": "code",
   "execution_count": 20,
   "metadata": {},
   "outputs": [
    {
     "name": "stdout",
     "output_type": "stream",
     "text": [
      "R^2 value: 0.017736345549656418\n"
     ]
    }
   ],
   "source": [
    "from sklearn.linear_model import LinearRegression\n",
    "from sklearn.metrics import r2_score\n",
    "\n",
    "# Prepare the data\n",
    "X = df_combine['Stiffness (log (E actual) PA) (1/4 scaled)'].values.reshape(-1, 1)\n",
    "y = df_combine['Stiffness (log (E actual) PA) (tiled)'].values\n",
    "\n",
    "# Create and fit the linear regression model\n",
    "model = LinearRegression()\n",
    "model.fit(X, y)\n",
    "\n",
    "# Make predictions\n",
    "y_pred = model.predict(X)\n",
    "\n",
    "# Calculate R^2\n",
    "r2 = r2_score(y, y_pred)\n",
    "print(f\"R^2 value: {r2}\")\n"
   ]
  },
  {
   "cell_type": "code",
   "execution_count": null,
   "metadata": {},
   "outputs": [],
   "source": []
  }
 ],
 "metadata": {
  "kernelspec": {
   "display_name": ".venv",
   "language": "python",
   "name": "python3"
  },
  "language_info": {
   "codemirror_mode": {
    "name": "ipython",
    "version": 3
   },
   "file_extension": ".py",
   "mimetype": "text/x-python",
   "name": "python",
   "nbconvert_exporter": "python",
   "pygments_lexer": "ipython3",
   "version": "3.11.3"
  }
 },
 "nbformat": 4,
 "nbformat_minor": 2
}
