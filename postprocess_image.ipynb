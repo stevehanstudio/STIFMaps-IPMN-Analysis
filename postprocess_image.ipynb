{
 "cells": [
  {
   "cell_type": "code",
   "execution_count": 2,
   "id": "956227a9-486f-4790-852d-0897fc8db5b5",
   "metadata": {},
   "outputs": [],
   "source": [
    "# Import from the globals_and_helpers file\n",
    "from globals_and_helpers import (\n",
    "    TEMP_OUTPUTS_DIR,\n",
    "    FINAL_OUTPUTS_DIR,\n",
    "    gen_colormap_legend,\n",
    "    stitch_STIFMap_tiles,\n",
    ")"
   ]
  },
  {
   "cell_type": "code",
   "execution_count": 3,
   "id": "239ea5f9",
   "metadata": {},
   "outputs": [
    {
     "ename": "FileNotFoundError",
     "evalue": "[WinError 3] The system cannot find the path specified: 'b:\\\\Projects\\\\WeaverLab\\\\STIFMaps-IPMN-Analysis\\\\temp_outputs\\\\27620\\\\STIFMap_tiles'",
     "output_type": "error",
     "traceback": [
      "\u001b[31m---------------------------------------------------------------------------\u001b[39m",
      "\u001b[31mFileNotFoundError\u001b[39m                         Traceback (most recent call last)",
      "\u001b[36mCell\u001b[39m\u001b[36m \u001b[39m\u001b[32mIn[3]\u001b[39m\u001b[32m, line 1\u001b[39m\n\u001b[32m----> \u001b[39m\u001b[32m1\u001b[39m \u001b[43mstitch_STIFMap_tiles\u001b[49m\u001b[43m(\u001b[49m\u001b[33;43m\"\u001b[39;49m\u001b[33;43m27620\u001b[39;49m\u001b[33;43m\"\u001b[39;49m\u001b[43m)\u001b[49m\n",
      "\u001b[36mFile \u001b[39m\u001b[32mb:\\Projects\\WeaverLab\\STIFMaps-IPMN-Analysis\\globals_and_helpers.py:331\u001b[39m, in \u001b[36mstitch_STIFMap_tiles\u001b[39m\u001b[34m(base_name, file_extension)\u001b[39m\n\u001b[32m    328\u001b[39m output_filename = os.path.join(FINAL_OUTPUTS_DIR, \u001b[33mf\u001b[39m\u001b[33m\"\u001b[39m\u001b[38;5;132;01m{\u001b[39;00mbase_name\u001b[38;5;132;01m}\u001b[39;00m\u001b[33m_STIFMap_full_stitched.png\u001b[39m\u001b[33m\"\u001b[39m)\n\u001b[32m    330\u001b[39m row_col_map = {}\n\u001b[32m--> \u001b[39m\u001b[32m331\u001b[39m \u001b[38;5;28;01mfor\u001b[39;00m file \u001b[38;5;129;01min\u001b[39;00m \u001b[43mos\u001b[49m\u001b[43m.\u001b[49m\u001b[43mlistdir\u001b[49m\u001b[43m(\u001b[49m\u001b[43mSTIFMaps_directory\u001b[49m\u001b[43m)\u001b[49m:\n\u001b[32m    332\u001b[39m     match = tile_pattern.match(file)\n\u001b[32m    333\u001b[39m     \u001b[38;5;28;01mif\u001b[39;00m match:\n",
      "\u001b[31mFileNotFoundError\u001b[39m: [WinError 3] The system cannot find the path specified: 'b:\\\\Projects\\\\WeaverLab\\\\STIFMaps-IPMN-Analysis\\\\temp_outputs\\\\27620\\\\STIFMap_tiles'"
     ]
    }
   ],
   "source": [
    "stitch_STIFMap_tiles(\"27620\")"
   ]
  },
  {
   "cell_type": "code",
   "execution_count": 4,
   "id": "44ffab7e-0c1c-443b-9768-aa14c3333e28",
   "metadata": {},
   "outputs": [
    {
     "name": "stdout",
     "output_type": "stream",
     "text": [
      "Colormap legend saved as /home/steve/Projects/WeaverLab/STIFMaps/final_outputs/4601_stiffness_colormap_legend.png\n"
     ]
    }
   ],
   "source": [
    "gen_colormap_legend(BASE_NAMES[2])"
   ]
  },
  {
   "cell_type": "code",
   "execution_count": 2,
   "id": "204be092-34f6-4d95-8ac1-7061b505e3ab",
   "metadata": {},
   "outputs": [
    {
     "name": "stdout",
     "output_type": "stream",
     "text": [
      "Detected grid size: 5 rows x 8 columns\n",
      "Missing tile: 4601_4_7.png. Replacing with a white tile.\n",
      "Stitched image saved as /home/steve/Projects/WeaverLab/STIFMaps/final_outputs/4601__STIFMap_stitched.png\n"
     ]
    }
   ],
   "source": [
    "stitch_STIFMap_tiles(BASE_NAMES[2])"
   ]
  },
  {
   "cell_type": "code",
   "execution_count": null,
   "id": "63e0db87-3353-49c2-9611-8c1f7661389c",
   "metadata": {},
   "outputs": [],
   "source": []
  }
 ],
 "metadata": {
  "kernelspec": {
   "display_name": ".venv",
   "language": "python",
   "name": "python3"
  },
  "language_info": {
   "codemirror_mode": {
    "name": "ipython",
    "version": 3
   },
   "file_extension": ".py",
   "mimetype": "text/x-python",
   "name": "python",
   "nbconvert_exporter": "python",
   "pygments_lexer": "ipython3",
   "version": "3.11.3"
  }
 },
 "nbformat": 4,
 "nbformat_minor": 5
}
